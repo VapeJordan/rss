{
 "cells": [
  {
   "cell_type": "code",
   "execution_count": 1,
   "id": "8fe2abb0-308a-411f-8309-6e97cbe358f5",
   "metadata": {},
   "outputs": [],
   "source": [
    "from rss.api import (byte_locations, compressed_zarr,\n",
    "                     parse_ebcdic, parse_binary_header, read_trace_data)\n"
   ]
  },
  {
   "cell_type": "code",
   "execution_count": 3,
   "id": "1e00ee44-00dd-42ae-9ff9-700b4a1d0452",
   "metadata": {},
   "outputs": [],
   "source": [
    "segy_file = 'FORGE_78-32_iDASv3-P11_UTC190419001218.sgy'"
   ]
  },
  {
   "cell_type": "code",
   "execution_count": 6,
   "id": "233de3b0-a5cd-4f02-89fb-73dd16f7a42c",
   "metadata": {},
   "outputs": [
    {
     "name": "stdout",
     "output_type": "stream",
     "text": [
      "C1 ------------------------------ JOB.INFO -------------------------------------\n",
      "C2 CLIENT: University of Utah, FIELD: FORGE, WELL: 78-32                        \n",
      "C3 FIELD ENG1: Thomas Coleman, FIELD ENG2: Taylor Martin                        \n",
      "C4 PD: MSL; RDR: GL; SDR: ; RDR ELEV: 1679.29M; SDR ELEV: 0.00M                 \n",
      "C5 ----------------------------- FILE.INFO -------------------------------------\n",
      "C6 ORIGINAL FILE: FORGE 78-32_UTC_20190419_001218.186.tdms                      \n",
      "C7 SEGY GENERATED USING SEIBERBE 3.4.0.1, SEIBERFE 2.4.0.0                      \n",
      "C8                                                                              \n",
      "C9 RECORDING FORMAT: SEG-Y Rev. 100                                             \n",
      "C10                                                                             \n",
      "C11 FIRST SAMPLE 0MSEC, IEEE32FP, SR: 500MS                                     \n",
      "C12                                                                             \n",
      "C13 UTC File Time stamp: 2019/04/19 00:12:18.186985 (UTC)                       \n",
      "C14 AMPLITUDE VALUES PROPORTIONAL TO STRAINRATE; SC= X11600 TO NM/M/S           \n",
      "C15 COORD SC X -10, ELEV SC X -1000                                             \n",
      "C16                                                                             \n",
      "C17                                                                             \n",
      "C18                                                                             \n",
      "C19                                                                             \n",
      "C20                                                                             \n",
      "C21                                                                             \n",
      "C22                                                                             \n",
      "C23                                                                             \n",
      "C24                                                                             \n",
      "C25 ---------------------------- NAV.INFO --------------------------------------\n",
      "C26 MAP DAT: NAD83, MAP PROJ: UTM, MAP ZONE: 12N                                \n",
      "C27                                                                             \n",
      "C28                                                                             \n",
      "C29                                                                             \n",
      "C30                                                                             \n",
      "C31                                                                             \n",
      "C32                                                                             \n",
      "C33 ----------------------------- HEADERS (BYTES) ------------------------------\n",
      "C34 BINARY HEADER:                                                              \n",
      "C35 NTRC(13-14 & 63-66),DT(17-18),NSAMP(21-22 & 67-70)                          \n",
      "C36 TRACE-HEADER:                                                               \n",
      "C37 RECTVD(41-44),NSAMPTRC(115-116 & 233-236)                                   \n",
      "C38 FIBREDIST(197-200),RECMD(237-240)                                           \n",
      "C39                                                                             \n",
      "C40 END EBCDIC                                                                  \n",
      "\n"
     ]
    }
   ],
   "source": [
    "ebcdic = parse_ebcdic(segy_file)\n",
    "print(ebcdic)"
   ]
  },
  {
   "cell_type": "code",
   "execution_count": 7,
   "id": "0e13f6a0-e302-4c7d-9dce-8147631c32d1",
   "metadata": {},
   "outputs": [
    {
     "data": {
      "text/plain": [
       "{'sample_rate_ms': 0.5,\n",
       " 'ns': 30000,\n",
       " 'float_format': 5,\n",
       " 'units': 'feet',\n",
       " 'size_of_trace': 120240,\n",
       " 'num_traces': 1088}"
      ]
     },
     "execution_count": 7,
     "metadata": {},
     "output_type": "execute_result"
    }
   ],
   "source": [
    "binary_header = parse_binary_header(segy_file)    \n",
    "binary_header"
   ]
  },
  {
   "cell_type": "code",
   "execution_count": null,
   "id": "5ee81a14-402f-4172-a0ea-297876b1cb04",
   "metadata": {},
   "outputs": [],
   "source": []
  }
 ],
 "metadata": {
  "kernelspec": {
   "display_name": "Python 3",
   "language": "python",
   "name": "python3"
  },
  "language_info": {
   "codemirror_mode": {
    "name": "ipython",
    "version": 3
   },
   "file_extension": ".py",
   "mimetype": "text/x-python",
   "name": "python",
   "nbconvert_exporter": "python",
   "pygments_lexer": "ipython3",
   "version": "3.8.5"
  }
 },
 "nbformat": 4,
 "nbformat_minor": 5
}
